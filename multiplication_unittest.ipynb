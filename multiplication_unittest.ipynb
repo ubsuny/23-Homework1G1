{
  "nbformat": 4,
  "nbformat_minor": 0,
  "metadata": {
    "colab": {
      "provenance": [],
      "authorship_tag": "ABX9TyMJM/X9VWhWEcBH1XNDKavJ",
      "include_colab_link": true
    },
    "kernelspec": {
      "name": "python3",
      "display_name": "Python 3"
    },
    "language_info": {
      "name": "python"
    }
  },
  "cells": [
    {
      "cell_type": "markdown",
      "metadata": {
        "id": "view-in-github",
        "colab_type": "text"
      },
      "source": [
        "<a href=\"https://colab.research.google.com/github/AhmedCode99/HW1_UnitTest/blob/Multiplication-Unit-Test/multiplication_unittest.ipynb\" target=\"_parent\"><img src=\"https://colab.research.google.com/assets/colab-badge.svg\" alt=\"Open In Colab\"/></a>"
      ]
    },
    {
      "cell_type": "code",
      "execution_count": null,
      "metadata": {
        "id": "4akisH_-lwIk"
      },
      "outputs": [],
      "source": []
    },
    {
      "cell_type": "code",
      "source": [
        "import unittest\n",
        "\n",
        "def test_multiplication():\n",
        "    # Test cases with expected results\n",
        "    test_cases = [\n",
        "        (0, 0, 0),  # 0 * 0 = 0\n",
        "        (3, 5, 15),  # 3 * 5 = 15\n",
        "        (7, 8, 56),  # 7 * 8 = 56\n",
        "        (13, 9, 117),  # 13 * 9 = 117\n",
        "    ]\n",
        "\n",
        "    for multiplicand, multiplier, expected_product in test_cases:\n",
        "        product = quantum_multiplication(multiplicand, multiplier)\n",
        "\n",
        "        unittest.TestCase().assertEqual(product, expected_product, \"Positve Multiplication is NOT Working\")\n",
        "\n",
        "\n",
        "def test_large_integer_multiplication():\n",
        "    # Test cases with expected results\n",
        "    test_cases = [\n",
        "        (100, 100, 10000),  # 100 * 100 = 10000\n",
        "        (20 ,531, 10620),  # 20 * 531 = 10620\n",
        "        (77, 45, 3465),  # 77 * 45 = 3465\n",
        "        (13, 93, 1209),  # 13 * 93 = 1209\n",
        "    ]\n",
        "\n",
        "    for multiplicand, multiplier, expected_product in test_cases:\n",
        "        product = quantum_multiplication(multiplicand, multiplier)\n",
        "\n",
        "        unittest.TestCase().assertEqual(product, expected_product, \"Large Integer Multiplication is NOT Working\")\n",
        "\n",
        "\n",
        "\n",
        "def test_negative_multiplication():\n",
        "    # Test cases with negative numbers\n",
        "    test_cases = [\n",
        "        (-3, -5, 15),  # -3 * -5 = 15\n",
        "        (-5, -5, 25),  # -5 * -5 = 25\n",
        "        (-2, -5, 10),  # -2 * -5 = 10\n",
        "    ]\n",
        "\n",
        "    for multiplicand, multiplier, expected_product in test_cases:\n",
        "        product = quantum_multiplication(multiplicand, multiplier)\n",
        "        unittest.TestCase().assertEqual(product, expected_product, \"Negative Multiplication is NOT Working\")\n",
        "\n",
        "def test_mixed_multiplication():\n",
        "    # Test cases with mixed numbers\n",
        "    test_cases = [\n",
        "        (-3, 5, -15),  # -3 * 5 = -15\n",
        "        (3, -5, -15),  # 3 * -5 = -15\n",
        "        (3, -2, -6),  # 3 * -2 = -6\n",
        "    ]\n",
        "\n",
        "    for multiplicand, multiplier, expected_product in test_cases:\n",
        "        product = quantum_multiplication(multiplicand, multiplier)\n",
        "        unittest.TestCase().assertEqual(product, expected_product, \"Mixed Multiplication is NOT Working\")\n",
        "\n",
        "if __name__ == '__main__':\n",
        "    test_multiplication()\n",
        "    test_large_integer_multiplication()\n",
        "    test_negative_multiplication()\n",
        "    test_mixed_multiplication()\n",
        "\n"
      ],
      "metadata": {
        "colab": {
          "base_uri": "https://localhost:8080/",
          "height": 377
        },
        "id": "nuCZPX62dvgk",
        "outputId": "a565a342-b4ec-44bd-c0f7-8306a06c85a3"
      },
      "execution_count": null,
      "outputs": [
        {
          "output_type": "error",
          "ename": "NameError",
          "evalue": "ignored",
          "traceback": [
            "\u001b[0;31m---------------------------------------------------------------------------\u001b[0m",
            "\u001b[0;31mNameError\u001b[0m                                 Traceback (most recent call last)",
            "\u001b[0;32m<ipython-input-1-6a40c3048eaf>\u001b[0m in \u001b[0;36m<cell line: 58>\u001b[0;34m()\u001b[0m\n\u001b[1;32m     57\u001b[0m \u001b[0;34m\u001b[0m\u001b[0m\n\u001b[1;32m     58\u001b[0m \u001b[0;32mif\u001b[0m \u001b[0m__name__\u001b[0m \u001b[0;34m==\u001b[0m \u001b[0;34m'__main__'\u001b[0m\u001b[0;34m:\u001b[0m\u001b[0;34m\u001b[0m\u001b[0;34m\u001b[0m\u001b[0m\n\u001b[0;32m---> 59\u001b[0;31m     \u001b[0mtest_multiplication\u001b[0m\u001b[0;34m(\u001b[0m\u001b[0;34m)\u001b[0m\u001b[0;34m\u001b[0m\u001b[0;34m\u001b[0m\u001b[0m\n\u001b[0m\u001b[1;32m     60\u001b[0m     \u001b[0mtest_negative_multiplication\u001b[0m\u001b[0;34m(\u001b[0m\u001b[0;34m)\u001b[0m\u001b[0;34m\u001b[0m\u001b[0;34m\u001b[0m\u001b[0m\n\u001b[1;32m     61\u001b[0m     \u001b[0mtest_mixed_multiplication\u001b[0m\u001b[0;34m(\u001b[0m\u001b[0;34m)\u001b[0m\u001b[0;34m\u001b[0m\u001b[0;34m\u001b[0m\u001b[0m\n",
            "\u001b[0;32m<ipython-input-1-6a40c3048eaf>\u001b[0m in \u001b[0;36mtest_multiplication\u001b[0;34m()\u001b[0m\n\u001b[1;32m     11\u001b[0m \u001b[0;34m\u001b[0m\u001b[0m\n\u001b[1;32m     12\u001b[0m     \u001b[0;32mfor\u001b[0m \u001b[0mmultiplicand\u001b[0m\u001b[0;34m,\u001b[0m \u001b[0mmultiplier\u001b[0m\u001b[0;34m,\u001b[0m \u001b[0mexpected_product\u001b[0m \u001b[0;32min\u001b[0m \u001b[0mtest_cases\u001b[0m\u001b[0;34m:\u001b[0m\u001b[0;34m\u001b[0m\u001b[0;34m\u001b[0m\u001b[0m\n\u001b[0;32m---> 13\u001b[0;31m         \u001b[0mproduct\u001b[0m \u001b[0;34m=\u001b[0m \u001b[0mquantum_multiplication\u001b[0m\u001b[0;34m(\u001b[0m\u001b[0mmultiplicand\u001b[0m\u001b[0;34m,\u001b[0m \u001b[0mmultiplier\u001b[0m\u001b[0;34m)\u001b[0m\u001b[0;34m\u001b[0m\u001b[0;34m\u001b[0m\u001b[0m\n\u001b[0m\u001b[1;32m     14\u001b[0m \u001b[0;34m\u001b[0m\u001b[0m\n\u001b[1;32m     15\u001b[0m         \u001b[0munittest\u001b[0m\u001b[0;34m.\u001b[0m\u001b[0mTestCase\u001b[0m\u001b[0;34m(\u001b[0m\u001b[0;34m)\u001b[0m\u001b[0;34m.\u001b[0m\u001b[0massertEqual\u001b[0m\u001b[0;34m(\u001b[0m\u001b[0mproduct\u001b[0m\u001b[0;34m,\u001b[0m \u001b[0mexpected_product\u001b[0m\u001b[0;34m,\u001b[0m \u001b[0;34m\"Positve Multiplication is NOT Working\"\u001b[0m\u001b[0;34m)\u001b[0m\u001b[0;34m\u001b[0m\u001b[0;34m\u001b[0m\u001b[0m\n",
            "\u001b[0;31mNameError\u001b[0m: name 'quantum_multiplication' is not defined"
          ]
        }
      ]
    }
  ]
}